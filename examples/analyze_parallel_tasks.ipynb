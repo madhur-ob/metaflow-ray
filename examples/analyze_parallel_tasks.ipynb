{
 "cells": [
  {
   "cell_type": "code",
   "execution_count": null,
   "metadata": {},
   "outputs": [],
   "source": [
    "from metaflow import Flow, Task\n",
    "import pandas as pd"
   ]
  },
  {
   "cell_type": "code",
   "execution_count": null,
   "metadata": {},
   "outputs": [],
   "source": [
    "FLOW_NAME = \"RayCPU\"\n",
    "STEP_NAME = \"big_step\""
   ]
  },
  {
   "cell_type": "code",
   "execution_count": null,
   "metadata": {},
   "outputs": [],
   "source": [
    "flow = Flow(FLOW_NAME)\n",
    "run = flow.latest_run\n",
    "\n",
    "data = {\"task_id\": [], \"created_at\": [], \"finished_at\": []}\n",
    "\n",
    "for step in run:\n",
    "    if step.pathspec.split(\"/\")[-1] == STEP_NAME:\n",
    "        for task in step:\n",
    "            data[\"task_id\"].append(task.id)\n",
    "            data[\"created_at\"].append(task.created_at)\n",
    "            data[\"finished_at\"].append(task.finished_at)\n",
    "\n",
    "data = pd.DataFrame(data)\n",
    "data"
   ]
  }
 ],
 "metadata": {
  "kernelspec": {
   "display_name": "ray-test",
   "language": "python",
   "name": "python3"
  },
  "language_info": {
   "codemirror_mode": {
    "name": "ipython",
    "version": 3
   },
   "file_extension": ".py",
   "mimetype": "text/x-python",
   "name": "python",
   "nbconvert_exporter": "python",
   "pygments_lexer": "ipython3",
   "version": "3.9.16"
  },
  "orig_nbformat": 4
 },
 "nbformat": 4,
 "nbformat_minor": 2
}
